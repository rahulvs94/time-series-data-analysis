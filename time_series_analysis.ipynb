{
 "cells": [
  {
   "cell_type": "code",
   "execution_count": 254,
   "metadata": {},
   "outputs": [],
   "source": [
    "import pandas as pd\n",
    "import itertools\n",
    "import numpy as np\n",
    "import matplotlib.pyplot as plt\n",
    "\n",
    "from sklearn.metrics import mean_squared_error\n",
    "from math import sqrt\n",
    "\n",
    "from statsmodels.tsa.api import ExponentialSmoothing, SimpleExpSmoothing, Holt\n",
    "from statsmodels.tsa.arima_model import ARIMA"
   ]
  },
  {
   "cell_type": "code",
   "execution_count": 255,
   "metadata": {},
   "outputs": [
    {
     "name": "stdout",
     "output_type": "stream",
     "text": [
      "   ID          Datetime  Count\n",
      "0   0  25-08-2012 00:00      8\n",
      "1   1  25-08-2012 01:00      2\n",
      "2   2  25-08-2012 02:00      6\n",
      "3   3  25-08-2012 03:00      2\n",
      "4   4  25-08-2012 04:00      2\n",
      "(18288, 3)\n"
     ]
    }
   ],
   "source": [
    "df = pd.read_csv('Train_SU63ISt.csv')\n",
    "print(df.head(5))\n",
    "print(df.shape)"
   ]
  },
  {
   "cell_type": "code",
   "execution_count": 256,
   "metadata": {},
   "outputs": [],
   "source": [
    "train = df[0:14630]\n",
    "validation = df[14630:]"
   ]
  },
  {
   "cell_type": "code",
   "execution_count": 257,
   "metadata": {},
   "outputs": [
    {
     "name": "stdout",
     "output_type": "stream",
     "text": [
      "(14630, 3)\n",
      "(3658, 3)\n"
     ]
    }
   ],
   "source": [
    "print(train.shape)\n",
    "print(validation.shape)"
   ]
  },
  {
   "cell_type": "markdown",
   "metadata": {},
   "source": [
    "# Naive approach"
   ]
  },
  {
   "cell_type": "code",
   "execution_count": 5,
   "metadata": {},
   "outputs": [
    {
     "data": {
      "text/html": [
       "<div>\n",
       "<style scoped>\n",
       "    .dataframe tbody tr th:only-of-type {\n",
       "        vertical-align: middle;\n",
       "    }\n",
       "\n",
       "    .dataframe tbody tr th {\n",
       "        vertical-align: top;\n",
       "    }\n",
       "\n",
       "    .dataframe thead th {\n",
       "        text-align: right;\n",
       "    }\n",
       "</style>\n",
       "<table border=\"1\" class=\"dataframe\">\n",
       "  <thead>\n",
       "    <tr style=\"text-align: right;\">\n",
       "      <th></th>\n",
       "      <th>ID</th>\n",
       "      <th>Datetime</th>\n",
       "      <th>Count</th>\n",
       "      <th>naive</th>\n",
       "    </tr>\n",
       "  </thead>\n",
       "  <tbody>\n",
       "    <tr>\n",
       "      <th>14630</th>\n",
       "      <td>14630</td>\n",
       "      <td>26-04-2014 14:00</td>\n",
       "      <td>204</td>\n",
       "      <td>206</td>\n",
       "    </tr>\n",
       "    <tr>\n",
       "      <th>14631</th>\n",
       "      <td>14631</td>\n",
       "      <td>26-04-2014 15:00</td>\n",
       "      <td>172</td>\n",
       "      <td>206</td>\n",
       "    </tr>\n",
       "    <tr>\n",
       "      <th>14632</th>\n",
       "      <td>14632</td>\n",
       "      <td>26-04-2014 16:00</td>\n",
       "      <td>184</td>\n",
       "      <td>206</td>\n",
       "    </tr>\n",
       "    <tr>\n",
       "      <th>14633</th>\n",
       "      <td>14633</td>\n",
       "      <td>26-04-2014 17:00</td>\n",
       "      <td>124</td>\n",
       "      <td>206</td>\n",
       "    </tr>\n",
       "    <tr>\n",
       "      <th>14634</th>\n",
       "      <td>14634</td>\n",
       "      <td>26-04-2014 18:00</td>\n",
       "      <td>190</td>\n",
       "      <td>206</td>\n",
       "    </tr>\n",
       "    <tr>\n",
       "      <th>14635</th>\n",
       "      <td>14635</td>\n",
       "      <td>26-04-2014 19:00</td>\n",
       "      <td>230</td>\n",
       "      <td>206</td>\n",
       "    </tr>\n",
       "    <tr>\n",
       "      <th>14636</th>\n",
       "      <td>14636</td>\n",
       "      <td>26-04-2014 20:00</td>\n",
       "      <td>236</td>\n",
       "      <td>206</td>\n",
       "    </tr>\n",
       "    <tr>\n",
       "      <th>14637</th>\n",
       "      <td>14637</td>\n",
       "      <td>26-04-2014 21:00</td>\n",
       "      <td>182</td>\n",
       "      <td>206</td>\n",
       "    </tr>\n",
       "    <tr>\n",
       "      <th>14638</th>\n",
       "      <td>14638</td>\n",
       "      <td>26-04-2014 22:00</td>\n",
       "      <td>212</td>\n",
       "      <td>206</td>\n",
       "    </tr>\n",
       "    <tr>\n",
       "      <th>14639</th>\n",
       "      <td>14639</td>\n",
       "      <td>26-04-2014 23:00</td>\n",
       "      <td>212</td>\n",
       "      <td>206</td>\n",
       "    </tr>\n",
       "    <tr>\n",
       "      <th>14640</th>\n",
       "      <td>14640</td>\n",
       "      <td>27-04-2014 00:00</td>\n",
       "      <td>202</td>\n",
       "      <td>206</td>\n",
       "    </tr>\n",
       "    <tr>\n",
       "      <th>14641</th>\n",
       "      <td>14641</td>\n",
       "      <td>27-04-2014 01:00</td>\n",
       "      <td>154</td>\n",
       "      <td>206</td>\n",
       "    </tr>\n",
       "    <tr>\n",
       "      <th>14642</th>\n",
       "      <td>14642</td>\n",
       "      <td>27-04-2014 02:00</td>\n",
       "      <td>100</td>\n",
       "      <td>206</td>\n",
       "    </tr>\n",
       "    <tr>\n",
       "      <th>14643</th>\n",
       "      <td>14643</td>\n",
       "      <td>27-04-2014 03:00</td>\n",
       "      <td>244</td>\n",
       "      <td>206</td>\n",
       "    </tr>\n",
       "    <tr>\n",
       "      <th>14644</th>\n",
       "      <td>14644</td>\n",
       "      <td>27-04-2014 04:00</td>\n",
       "      <td>130</td>\n",
       "      <td>206</td>\n",
       "    </tr>\n",
       "  </tbody>\n",
       "</table>\n",
       "</div>"
      ],
      "text/plain": [
       "          ID          Datetime  Count  naive\n",
       "14630  14630  26-04-2014 14:00    204    206\n",
       "14631  14631  26-04-2014 15:00    172    206\n",
       "14632  14632  26-04-2014 16:00    184    206\n",
       "14633  14633  26-04-2014 17:00    124    206\n",
       "14634  14634  26-04-2014 18:00    190    206\n",
       "14635  14635  26-04-2014 19:00    230    206\n",
       "14636  14636  26-04-2014 20:00    236    206\n",
       "14637  14637  26-04-2014 21:00    182    206\n",
       "14638  14638  26-04-2014 22:00    212    206\n",
       "14639  14639  26-04-2014 23:00    212    206\n",
       "14640  14640  27-04-2014 00:00    202    206\n",
       "14641  14641  27-04-2014 01:00    154    206\n",
       "14642  14642  27-04-2014 02:00    100    206\n",
       "14643  14643  27-04-2014 03:00    244    206\n",
       "14644  14644  27-04-2014 04:00    130    206"
      ]
     },
     "execution_count": 5,
     "metadata": {},
     "output_type": "execute_result"
    }
   ],
   "source": [
    "dd = np.asarray(train.Count)\n",
    "\n",
    "y_hat = validation.copy()\n",
    "y_hat['naive'] = dd[len(dd)-1]\n",
    "\n",
    "y_hat.head(15)"
   ]
  },
  {
   "cell_type": "code",
   "execution_count": 6,
   "metadata": {
    "scrolled": true
   },
   "outputs": [
    {
     "data": {
      "image/png": "[encoded data removed]",
      "text/plain": [
       "<Figure size 432x288 with 1 Axes>"
      ]
     },
     "metadata": {
      "needs_background": "light"
     },
     "output_type": "display_data"
    }
   ],
   "source": [
    "plt.plot(train.index, train['Count'], label='Train')\n",
    "plt.plot(validation.index, validation['Count'], label='Validation')\n",
    "plt.plot(y_hat.index, y_hat['naive'], label='Naive Forcast')\n",
    "plt.legend(loc='best')\n",
    "plt.title('Naive Forcast')\n",
    "plt.show()"
   ]
  },
  {
   "cell_type": "code",
   "execution_count": 7,
   "metadata": {},
   "outputs": [
    {
     "name": "stdout",
     "output_type": "stream",
     "text": [
      "224.37153344204816\n"
     ]
    }
   ],
   "source": [
    "rms = sqrt(mean_squared_error(validation.Count, y_hat.naive))\n",
    "print(rms)"
   ]
  },
  {
   "cell_type": "markdown",
   "metadata": {},
   "source": [
    "# Simple average"
   ]
  },
  {
   "cell_type": "code",
   "execution_count": 8,
   "metadata": {},
   "outputs": [
    {
     "data": {
      "text/html": [
       "<div>\n",
       "<style scoped>\n",
       "    .dataframe tbody tr th:only-of-type {\n",
       "        vertical-align: middle;\n",
       "    }\n",
       "\n",
       "    .dataframe tbody tr th {\n",
       "        vertical-align: top;\n",
       "    }\n",
       "\n",
       "    .dataframe thead th {\n",
       "        text-align: right;\n",
       "    }\n",
       "</style>\n",
       "<table border=\"1\" class=\"dataframe\">\n",
       "  <thead>\n",
       "    <tr style=\"text-align: right;\">\n",
       "      <th></th>\n",
       "      <th>ID</th>\n",
       "      <th>Datetime</th>\n",
       "      <th>Count</th>\n",
       "      <th>avg_forcast</th>\n",
       "    </tr>\n",
       "  </thead>\n",
       "  <tbody>\n",
       "    <tr>\n",
       "      <th>14630</th>\n",
       "      <td>14630</td>\n",
       "      <td>26-04-2014 14:00</td>\n",
       "      <td>204</td>\n",
       "      <td>86.385373</td>\n",
       "    </tr>\n",
       "    <tr>\n",
       "      <th>14631</th>\n",
       "      <td>14631</td>\n",
       "      <td>26-04-2014 15:00</td>\n",
       "      <td>172</td>\n",
       "      <td>86.385373</td>\n",
       "    </tr>\n",
       "    <tr>\n",
       "      <th>14632</th>\n",
       "      <td>14632</td>\n",
       "      <td>26-04-2014 16:00</td>\n",
       "      <td>184</td>\n",
       "      <td>86.385373</td>\n",
       "    </tr>\n",
       "    <tr>\n",
       "      <th>14633</th>\n",
       "      <td>14633</td>\n",
       "      <td>26-04-2014 17:00</td>\n",
       "      <td>124</td>\n",
       "      <td>86.385373</td>\n",
       "    </tr>\n",
       "    <tr>\n",
       "      <th>14634</th>\n",
       "      <td>14634</td>\n",
       "      <td>26-04-2014 18:00</td>\n",
       "      <td>190</td>\n",
       "      <td>86.385373</td>\n",
       "    </tr>\n",
       "    <tr>\n",
       "      <th>14635</th>\n",
       "      <td>14635</td>\n",
       "      <td>26-04-2014 19:00</td>\n",
       "      <td>230</td>\n",
       "      <td>86.385373</td>\n",
       "    </tr>\n",
       "    <tr>\n",
       "      <th>14636</th>\n",
       "      <td>14636</td>\n",
       "      <td>26-04-2014 20:00</td>\n",
       "      <td>236</td>\n",
       "      <td>86.385373</td>\n",
       "    </tr>\n",
       "    <tr>\n",
       "      <th>14637</th>\n",
       "      <td>14637</td>\n",
       "      <td>26-04-2014 21:00</td>\n",
       "      <td>182</td>\n",
       "      <td>86.385373</td>\n",
       "    </tr>\n",
       "    <tr>\n",
       "      <th>14638</th>\n",
       "      <td>14638</td>\n",
       "      <td>26-04-2014 22:00</td>\n",
       "      <td>212</td>\n",
       "      <td>86.385373</td>\n",
       "    </tr>\n",
       "    <tr>\n",
       "      <th>14639</th>\n",
       "      <td>14639</td>\n",
       "      <td>26-04-2014 23:00</td>\n",
       "      <td>212</td>\n",
       "      <td>86.385373</td>\n",
       "    </tr>\n",
       "    <tr>\n",
       "      <th>14640</th>\n",
       "      <td>14640</td>\n",
       "      <td>27-04-2014 00:00</td>\n",
       "      <td>202</td>\n",
       "      <td>86.385373</td>\n",
       "    </tr>\n",
       "    <tr>\n",
       "      <th>14641</th>\n",
       "      <td>14641</td>\n",
       "      <td>27-04-2014 01:00</td>\n",
       "      <td>154</td>\n",
       "      <td>86.385373</td>\n",
       "    </tr>\n",
       "    <tr>\n",
       "      <th>14642</th>\n",
       "      <td>14642</td>\n",
       "      <td>27-04-2014 02:00</td>\n",
       "      <td>100</td>\n",
       "      <td>86.385373</td>\n",
       "    </tr>\n",
       "    <tr>\n",
       "      <th>14643</th>\n",
       "      <td>14643</td>\n",
       "      <td>27-04-2014 03:00</td>\n",
       "      <td>244</td>\n",
       "      <td>86.385373</td>\n",
       "    </tr>\n",
       "    <tr>\n",
       "      <th>14644</th>\n",
       "      <td>14644</td>\n",
       "      <td>27-04-2014 04:00</td>\n",
       "      <td>130</td>\n",
       "      <td>86.385373</td>\n",
       "    </tr>\n",
       "  </tbody>\n",
       "</table>\n",
       "</div>"
      ],
      "text/plain": [
       "          ID          Datetime  Count  avg_forcast\n",
       "14630  14630  26-04-2014 14:00    204    86.385373\n",
       "14631  14631  26-04-2014 15:00    172    86.385373\n",
       "14632  14632  26-04-2014 16:00    184    86.385373\n",
       "14633  14633  26-04-2014 17:00    124    86.385373\n",
       "14634  14634  26-04-2014 18:00    190    86.385373\n",
       "14635  14635  26-04-2014 19:00    230    86.385373\n",
       "14636  14636  26-04-2014 20:00    236    86.385373\n",
       "14637  14637  26-04-2014 21:00    182    86.385373\n",
       "14638  14638  26-04-2014 22:00    212    86.385373\n",
       "14639  14639  26-04-2014 23:00    212    86.385373\n",
       "14640  14640  27-04-2014 00:00    202    86.385373\n",
       "14641  14641  27-04-2014 01:00    154    86.385373\n",
       "14642  14642  27-04-2014 02:00    100    86.385373\n",
       "14643  14643  27-04-2014 03:00    244    86.385373\n",
       "14644  14644  27-04-2014 04:00    130    86.385373"
      ]
     },
     "execution_count": 8,
     "metadata": {},
     "output_type": "execute_result"
    }
   ],
   "source": [
    "y_hat_avg = validation.copy()\n",
    "y_hat_avg['avg_forcast'] = train['Count'].mean()\n",
    "\n",
    "y_hat_avg.head(15)"
   ]
  },
  {
   "cell_type": "code",
   "execution_count": 9,
   "metadata": {},
   "outputs": [
    {
     "data": {
      "image/png": "[encoded data removed]",
      "text/plain": [
       "<Figure size 432x288 with 1 Axes>"
      ]
     },
     "metadata": {
      "needs_background": "light"
     },
     "output_type": "display_data"
    }
   ],
   "source": [
    "plt.plot(train.index, train['Count'], label='Train')\n",
    "plt.plot(validation.index, validation['Count'], label='Validation')\n",
    "plt.plot(y_hat_avg.index, y_hat_avg['avg_forcast'], label='Simple average forcast')\n",
    "plt.legend(loc='best')\n",
    "plt.title('Simple Average Forcast')\n",
    "plt.show()"
   ]
  },
  {
   "cell_type": "code",
   "execution_count": 10,
   "metadata": {},
   "outputs": [
    {
     "name": "stdout",
     "output_type": "stream",
     "text": [
      "314.5039572329497\n"
     ]
    }
   ],
   "source": [
    "rms = sqrt(mean_squared_error(validation.Count, y_hat_avg.avg_forcast))\n",
    "print(rms)"
   ]
  },
  {
   "cell_type": "markdown",
   "metadata": {},
   "source": [
    "# Moving average "
   ]
  },
  {
   "cell_type": "markdown",
   "metadata": {},
   "source": [
    "Using simple exponential smoothing"
   ]
  },
  {
   "cell_type": "code",
   "execution_count": 94,
   "metadata": {},
   "outputs": [],
   "source": [
    "y_hat_avg = validation.copy()\n",
    "# best smoothing level value which gives lowest MSE \n",
    "fit1 = SimpleExpSmoothing(np.asarray(train['Count'])).fit(smoothing_level=0.02, optimized=True)\n",
    "y_hat_avg['SES'] = fit1.forecast(len(validation))\n",
    "\n",
    "#y_hat_avg.head(15)"
   ]
  },
  {
   "cell_type": "code",
   "execution_count": 95,
   "metadata": {},
   "outputs": [
    {
     "data": {
      "image/png": "[encoded data removed]",
      "text/plain": [
       "<Figure size 432x288 with 1 Axes>"
      ]
     },
     "metadata": {
      "needs_background": "light"
     },
     "output_type": "display_data"
    }
   ],
   "source": [
    "plt.plot(train['Count'], label='Train')\n",
    "plt.plot(validation['Count'], label='Validation')\n",
    "plt.plot(y_hat_avg['SES'], label='Simple Exponential Smoothing')\n",
    "plt.legend(loc='best')\n",
    "plt.show()"
   ]
  },
  {
   "cell_type": "code",
   "execution_count": 96,
   "metadata": {},
   "outputs": [
    {
     "name": "stdout",
     "output_type": "stream",
     "text": [
      "200.96987269208284\n"
     ]
    }
   ],
   "source": [
    "rms = sqrt(mean_squared_error(validation.Count, y_hat_avg.SES))\n",
    "print(rms)"
   ]
  },
  {
   "cell_type": "markdown",
   "metadata": {},
   "source": [
    "Using exponential smoothing"
   ]
  },
  {
   "cell_type": "code",
   "execution_count": 91,
   "metadata": {},
   "outputs": [],
   "source": [
    "y_hat_avg = validation.copy()\n",
    "# best smoothing level value which gives lowest MSE\n",
    "fit2 = ExponentialSmoothing(np.asarray(train['Count'])).fit(smoothing_level=0.02, optimized=True)\n",
    "y_hat_avg['ES'] = fit2.forecast(len(validation))\n",
    "\n",
    "#y_hat_avg.head(15)"
   ]
  },
  {
   "cell_type": "code",
   "execution_count": 92,
   "metadata": {},
   "outputs": [
    {
     "data": {
      "image/png": "[encoded data removed]",
      "text/plain": [
       "<Figure size 432x288 with 1 Axes>"
      ]
     },
     "metadata": {
      "needs_background": "light"
     },
     "output_type": "display_data"
    }
   ],
   "source": [
    "plt.plot(train['Count'], label='Train')\n",
    "plt.plot(validation['Count'], label='Validation')\n",
    "plt.plot(y_hat_avg['ES'], label='Exponential Smoothing')\n",
    "plt.legend(loc='best')\n",
    "plt.show()"
   ]
  },
  {
   "cell_type": "code",
   "execution_count": 93,
   "metadata": {},
   "outputs": [
    {
     "name": "stdout",
     "output_type": "stream",
     "text": [
      "200.96987269208284\n"
     ]
    }
   ],
   "source": [
    "rms = sqrt(mean_squared_error(validation.Count, y_hat_avg.ES))\n",
    "print(rms)"
   ]
  },
  {
   "cell_type": "markdown",
   "metadata": {},
   "source": [
    "Using Holt linear model"
   ]
  },
  {
   "cell_type": "code",
   "execution_count": 175,
   "metadata": {},
   "outputs": [],
   "source": [
    "y_hat_avg = validation.copy()\n",
    "fit3 = Holt(np.asarray(train['Count'])).fit(smoothing_level=0.01, smoothing_slope =0.1, optimized=True)\n",
    "y_hat_avg['holt'] = fit3.forecast(len(validation))\n",
    "\n",
    "#y_hat_avg.head(15)"
   ]
  },
  {
   "cell_type": "code",
   "execution_count": 176,
   "metadata": {},
   "outputs": [
    {
     "data": {
      "image/png": "[encoded data removed]",
      "text/plain": [
       "<Figure size 432x288 with 1 Axes>"
      ]
     },
     "metadata": {
      "needs_background": "light"
     },
     "output_type": "display_data"
    }
   ],
   "source": [
    "plt.plot(train['Count'], label='Train')\n",
    "plt.plot(validation['Count'], label='Validation')\n",
    "plt.plot(y_hat_avg['holt'], label='Holt linear model')\n",
    "plt.legend(loc='best')\n",
    "plt.show()"
   ]
  },
  {
   "cell_type": "code",
   "execution_count": 177,
   "metadata": {},
   "outputs": [
    {
     "name": "stdout",
     "output_type": "stream",
     "text": [
      "295.82291661615335\n"
     ]
    }
   ],
   "source": [
    "rms = sqrt(mean_squared_error(validation.Count, y_hat_avg.holt))\n",
    "print(rms)"
   ]
  },
  {
   "cell_type": "markdown",
   "metadata": {},
   "source": [
    "Using Holt Winter model"
   ]
  },
  {
   "cell_type": "code",
   "execution_count": 208,
   "metadata": {},
   "outputs": [],
   "source": [
    "y_hat_avg = validation.copy()\n",
    "fit4 = ExponentialSmoothing(np.asarray(train['Count']), seasonal_periods= 7, trend = 'add', seasonal= 'add').fit(optimized=True)\n",
    "y_hat_avg['holtWinter'] = fit4.forecast(len(validation))\n",
    "\n",
    "#y_hat_avg.head(15)"
   ]
  },
  {
   "cell_type": "code",
   "execution_count": 209,
   "metadata": {},
   "outputs": [
    {
     "data": {
      "image/png": "[encoded data removed]",
      "text/plain": [
       "<Figure size 432x288 with 1 Axes>"
      ]
     },
     "metadata": {
      "needs_background": "light"
     },
     "output_type": "display_data"
    }
   ],
   "source": [
    "plt.plot(train['Count'], label='Train')\n",
    "plt.plot(validation['Count'], label='Validation')\n",
    "plt.plot(y_hat_avg['holtWinter'], label='Holt Winter model')\n",
    "plt.legend(loc='best')\n",
    "plt.show()"
   ]
  },
  {
   "cell_type": "code",
   "execution_count": 210,
   "metadata": {},
   "outputs": [
    {
     "name": "stdout",
     "output_type": "stream",
     "text": [
      "158.75108178881916\n"
     ]
    }
   ],
   "source": [
    "rms = sqrt(mean_squared_error(validation.Count, y_hat_avg.holtWinter))\n",
    "print(rms)"
   ]
  },
  {
   "cell_type": "markdown",
   "metadata": {},
   "source": [
    "MSE values wrt seasonal_periods: \n",
    "2 - 201\n",
    "3 - 223\n",
    "4 - 218\n",
    "5 - 203.5\n",
    "6 - 176.52\n",
    "7 - 158.75\n",
    "8 - 195"
   ]
  },
  {
   "cell_type": "markdown",
   "metadata": {},
   "source": [
    "# ARIMA (Autoregressive integrated moving average)"
   ]
  },
  {
   "cell_type": "markdown",
   "metadata": {},
   "source": [
    "R programming provides automated ways to solve the issue of identifying appropriate values for (p,d,q)\n",
    "\n",
    "1. p = auto-regressive\n",
    "2. d = integrated\n",
    "3. q = moving average"
   ]
  },
  {
   "cell_type": "markdown",
   "metadata": {},
   "source": [
    "In python, to solve this problem, we will use grid search to iteratively explore different combinations of parameters"
   ]
  },
  {
   "cell_type": "code",
   "execution_count": 322,
   "metadata": {},
   "outputs": [
    {
     "name": "stdout",
     "output_type": "stream",
     "text": [
      "[314.50395723294974, 314.5037857036886, 205.16586224289736, 204.06996869355962, 314.28592666156743, 314.2611208228448, 203.8913840106557, 189.95253623271233]\n"
     ]
    }
   ],
   "source": [
    "p = d = q = range(0, 2)\n",
    "pdq = list(itertools.product(p, d, q))\n",
    "rms = []\n",
    "\n",
    "y_hat_avg = validation.copy()\n",
    "for i in pdq:\n",
    "    model = ARIMA(np.asarray(train['Count'], dtype='float64'), order=i).fit(disp=0)\n",
    "    y_hat_avg['ARIMA'] = model.forecast(len(validation))[0]\n",
    "    rms.append(sqrt(mean_squared_error(validation.Count, y_hat_avg.ARIMA)))\n",
    "\n",
    "print(rms) "
   ]
  },
  {
   "cell_type": "markdown",
   "metadata": {},
   "source": [
    "As we can see the minimum rms value is at (p,d,q) = (1,1,1)"
   ]
  },
  {
   "cell_type": "code",
   "execution_count": 331,
   "metadata": {},
   "outputs": [],
   "source": [
    "y_hat_avg = validation.copy()\n",
    "model = ARIMA(np.asarray(train['Count'], dtype='float64'), order=(1,1,1)).fit(disp=0)\n",
    "y_hat_avg['ARIMA'] = model.forecast(len(validation))[0]"
   ]
  },
  {
   "cell_type": "code",
   "execution_count": 332,
   "metadata": {},
   "outputs": [
    {
     "data": {
      "image/png": "[encoded data removed]",
      "text/plain": [
       "<Figure size 432x288 with 1 Axes>"
      ]
     },
     "metadata": {
      "needs_background": "light"
     },
     "output_type": "display_data"
    }
   ],
   "source": [
    "plt.plot(train['Count'], label='Train')\n",
    "plt.plot(validation['Count'], label='Validation')\n",
    "plt.plot(y_hat_avg['ARIMA'], label='ARIMA model')\n",
    "plt.legend(loc='best')\n",
    "plt.show()"
   ]
  }
 ],
 "metadata": {
  "kernelspec": {
   "display_name": "Python 3",
   "language": "python",
   "name": "python3"
  },
  "language_info": {
   "codemirror_mode": {
    "name": "ipython",
    "version": 3
   },
   "file_extension": ".py",
   "mimetype": "text/x-python",
   "name": "python",
   "nbconvert_exporter": "python",
   "pygments_lexer": "ipython3",
   "version": "3.5.6"
  }
 },
 "nbformat": 4,
 "nbformat_minor": 2
}
